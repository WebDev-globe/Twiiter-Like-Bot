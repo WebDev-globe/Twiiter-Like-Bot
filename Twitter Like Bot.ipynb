{
 "cells": [
  {
   "cell_type": "code",
   "execution_count": 2,
   "id": "dace921d",
   "metadata": {},
   "outputs": [
    {
     "name": "stdout",
     "output_type": "stream",
     "text": [
      "\n",
      "<<<<<<< Keyword : nft >>>>>>>>\n",
      "Like Count: 2/7\n",
      "\n",
      " 16.67% of nft liked\n",
      "\n",
      "<<<<<<< Keyword : opensea >>>>>>>>\n",
      "Like Count: 2/2\n",
      "Like Count: 3/5\n",
      "Like Count: 4/6\n",
      "\n",
      " 57.14% of opensea liked\n",
      "******** End of session ********\n"
     ]
    }
   ],
   "source": [
    "import tweepy\n",
    "import datetime \n",
    "import random\n",
    "from configparser import ConfigParser\n",
    "\n",
    "date = datetime.datetime.now()\n",
    "\n",
    "file='twitter_config.ini'\n",
    "config=ConfigParser()\n",
    "config.read(file)\n",
    "\n",
    "CONSUMER_KEY=config['cred']['consumer_key']\n",
    "CONSUMER_SECRET=config['cred']['consumer_secret']\n",
    "OAUTH_TOKEN=config['cred']['oauth_token']\n",
    "OAUTH_TOKEN_SECRET=config['cred']['oauth_token_secret']\n",
    "\n",
    "auth=tweepy.OAuthHandler(CONSUMER_KEY,CONSUMER_SECRET)\n",
    "auth.set_access_token(OAUTH_TOKEN,OAUTH_TOKEN_SECRET)\n",
    "api=tweepy.API(auth)\n",
    "\n",
    "keyword_set=['nft','opensea']\n",
    "\n",
    "count_set=random.randint(4, 12)\n",
    "for keywords in keyword_set:\n",
    "    \n",
    "    count=1\n",
    "    like_count=1\n",
    "    \n",
    "    print(f\"\\n<<<<<<< Keyword : {keywords} >>>>>>>>\")\n",
    "    tweet_bird=api.search_tweets(q=keywords,result_type=\"recent\",count=count_set,include_entities=False)\n",
    "    \n",
    "    for tweet in tweet_bird:\n",
    "        count=count+1\n",
    "        \n",
    "        if ((api.get_status(tweet.id).favorited == False)and(tweet.retweet_count<=5)):\n",
    "            api.create_favorite(tweet.id)\n",
    "            like_count=like_count+1\n",
    "            print(f\"Like Count: {like_count}/{count}\")\n",
    "    like_percentage = round((like_count*100/count),2)  \n",
    "    print(f\"\\n {like_percentage}% of {keywords} liked\")              \n",
    "print(\"******** End of session ********\")\n"
   ]
  },
  {
   "cell_type": "code",
   "execution_count": null,
   "id": "3283cac8",
   "metadata": {},
   "outputs": [],
   "source": []
  },
  {
   "cell_type": "code",
   "execution_count": null,
   "id": "0f71bacf",
   "metadata": {},
   "outputs": [],
   "source": []
  }
 ],
 "metadata": {
  "kernelspec": {
   "display_name": "Python 3",
   "language": "python",
   "name": "python3"
  },
  "language_info": {
   "codemirror_mode": {
    "name": "ipython",
    "version": 3
   },
   "file_extension": ".py",
   "mimetype": "text/x-python",
   "name": "python",
   "nbconvert_exporter": "python",
   "pygments_lexer": "ipython3",
   "version": "3.7.7"
  }
 },
 "nbformat": 4,
 "nbformat_minor": 5
}
